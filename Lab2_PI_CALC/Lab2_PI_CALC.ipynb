{
  "nbformat": 4,
  "nbformat_minor": 0,
  "metadata": {
    "colab": {
      "provenance": [],
      "collapsed_sections": []
    },
    "kernelspec": {
      "name": "python3",
      "display_name": "Python 3"
    },
    "language_info": {
      "name": "python"
    },
    "accelerator": "GPU",
    "gpuClass": "standard"
  },
  "cells": [
    {
      "cell_type": "code",
      "execution_count": 42,
      "metadata": {
        "id": "bhNJTg63SMEH"
      },
      "outputs": [],
      "source": [
        "from datetime import datetime\n",
        "import numpy as np\n",
        "from numba import cuda\n",
        "from tabulate import tabulate\n",
        "import matplotlib.pyplot as plt\n",
        "from numba.cuda.random import create_xoroshiro128p_states, xoroshiro128p_uniform_float32"
      ]
    },
    {
      "cell_type": "code",
      "source": [
        "TPB = 16\n",
        "pi_calculation_count = 16\n",
        "BPG = int(pi_calculation_count/TPB)"
      ],
      "metadata": {
        "id": "p5m74UnbSeUL"
      },
      "execution_count": 43,
      "outputs": []
    },
    {
      "cell_type": "code",
      "source": [
        "def cpu_pi_calcul(pi_calculation_count, N):\n",
        "    res = np.zeros(pi_calculation_count)\n",
        "    for i in range(pi_calculation_count):\n",
        "        x = np.random.uniform(size=N)\n",
        "        y = np.random.uniform(size=N)\n",
        "        z = x ** 2 + y ** 2 <= 1\n",
        "        res[i] = 4.0 * sum(z) / N\n",
        "    return res"
      ],
      "metadata": {
        "id": "Jo29NN1NSjLi"
      },
      "execution_count": 44,
      "outputs": []
    },
    {
      "cell_type": "code",
      "source": [
        "@cuda.jit \n",
        "def pi_calcul(res, rng):\n",
        "  i = cuda.blockIdx.x * cuda.blockDim.x + cuda.threadIdx.x\n",
        "  h = 0\n",
        "  # xoroshiro128p_uniform_float32 - Return a float32 in range [0.0, 1.0)\n",
        "  if i < len(rng):\n",
        "    x = xoroshiro128p_uniform_float32(rng, i)\n",
        "    y = xoroshiro128p_uniform_float32(rng, i)\n",
        "    if x ** 2 + y ** 2 <= 1.0:\n",
        "      h += 1\n",
        "  cuda.atomic.add(res, 0, h)"
      ],
      "metadata": {
        "id": "-irWL2-ySoy7"
      },
      "execution_count": 45,
      "outputs": []
    },
    {
      "cell_type": "code",
      "source": [
        "def gpu_pi_calcul(N):\n",
        "\n",
        "  # create_xoroshiro128p_states - for random generated array on CUDA device\n",
        "  rng_states = create_xoroshiro128p_states(N, seed=1)\n",
        "  res = [0]\n",
        "\n",
        "  dev_res = cuda.to_device(res)\n",
        "  pi_calcul[N, TPB](dev_res, rng_states)\n",
        "  tmp_ = dev_res.copy_to_host()\n",
        "  pi_ = 4 * tmp_[0] / N\n",
        "  return pi_"
      ],
      "metadata": {
        "id": "xxiORr3uSrMZ"
      },
      "execution_count": 46,
      "outputs": []
    },
    {
      "cell_type": "code",
      "source": [
        "def main(iteration_count , N):\n",
        "  for i in range(iteration_count):\n",
        "    print(\"Iteration number:\", i+1)\n",
        "    start = datetime.now()\n",
        "    cpu_pi = cpu_pi_calcul(pi_calculation_count, N).mean()\n",
        "    print(\"CPU TIME : \", datetime.now()- start)\n",
        "    print(\"CPU Pi : \", cpu_pi)\n",
        "    start = datetime.now()\n",
        "    gpu_pi = gpu_pi_calcul(N)\n",
        "    print(\"GPU TIME :\", datetime.now()- start)\n",
        "    print(\"GPU Pi : \", gpu_pi)\n",
        "    print(\"Number of points : \", N)\n",
        "    print()\n",
        "    N = N + 10000\n",
        "  return None"
      ],
      "metadata": {
        "id": "SH1aiMevSuZp"
      },
      "execution_count": 47,
      "outputs": []
    },
    {
      "cell_type": "code",
      "source": [
        "\n",
        "main(10, 10000)"
      ],
      "metadata": {
        "colab": {
          "base_uri": "https://localhost:8080/"
        },
        "id": "tHoADgQUSxDs",
        "outputId": "c10820bf-b3cc-44a3-f318-f60c29ac63a1"
      },
      "execution_count": 48,
      "outputs": [
        {
          "output_type": "stream",
          "name": "stdout",
          "text": [
            "Iteration number: 1\n",
            "CPU TIME :  0:00:00.323030\n",
            "CPU Pi :  3.1454750000000002\n",
            "GPU TIME : 0:00:00.137483\n",
            "GPU Pi :  3.1552\n",
            "Number of points :  10000\n",
            "\n",
            "Iteration number: 2\n",
            "CPU TIME :  0:00:00.632540\n",
            "CPU Pi :  3.1444625\n",
            "GPU TIME : 0:00:00.009212\n",
            "GPU Pi :  3.1578\n",
            "Number of points :  20000\n",
            "\n",
            "Iteration number: 3\n",
            "CPU TIME :  0:00:00.952985\n",
            "CPU Pi :  3.1451833333333337\n",
            "GPU TIME : 0:00:00.012079\n",
            "GPU Pi :  3.1508\n",
            "Number of points :  30000\n",
            "\n",
            "Iteration number: 4\n",
            "CPU TIME :  0:00:01.265431\n",
            "CPU Pi :  3.1398\n",
            "GPU TIME : 0:00:00.014167\n",
            "GPU Pi :  3.1471\n",
            "Number of points :  40000\n",
            "\n",
            "Iteration number: 5\n",
            "CPU TIME :  0:00:01.528847\n",
            "CPU Pi :  3.140835\n",
            "GPU TIME : 0:00:00.018084\n",
            "GPU Pi :  3.14304\n",
            "Number of points :  50000\n",
            "\n",
            "Iteration number: 6\n",
            "CPU TIME :  0:00:01.833783\n",
            "CPU Pi :  3.1421166666666664\n",
            "GPU TIME : 0:00:00.022789\n",
            "GPU Pi :  3.1470666666666665\n",
            "Number of points :  60000\n",
            "\n",
            "Iteration number: 7\n",
            "CPU TIME :  0:00:02.240020\n",
            "CPU Pi :  3.142714285714286\n",
            "GPU TIME : 0:00:00.021893\n",
            "GPU Pi :  3.147542857142857\n",
            "Number of points :  70000\n",
            "\n",
            "Iteration number: 8\n",
            "CPU TIME :  0:00:02.453353\n",
            "CPU Pi :  3.1413906249999997\n",
            "GPU TIME : 0:00:00.023899\n",
            "GPU Pi :  3.14745\n",
            "Number of points :  80000\n",
            "\n",
            "Iteration number: 9\n",
            "CPU TIME :  0:00:02.712400\n",
            "CPU Pi :  3.141836111111111\n",
            "GPU TIME : 0:00:00.027552\n",
            "GPU Pi :  3.1453777777777776\n",
            "Number of points :  90000\n",
            "\n",
            "Iteration number: 10\n",
            "CPU TIME :  0:00:03.036062\n",
            "CPU Pi :  3.1420575\n",
            "GPU TIME : 0:00:00.029969\n",
            "GPU Pi :  3.14372\n",
            "Number of points :  100000\n",
            "\n"
          ]
        }
      ]
    }
  ]
}